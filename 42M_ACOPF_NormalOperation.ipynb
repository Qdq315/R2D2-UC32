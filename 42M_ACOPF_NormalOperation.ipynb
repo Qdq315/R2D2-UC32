{
 "cells": [
  {
   "cell_type": "code",
   "execution_count": 1,
   "metadata": {},
   "outputs": [],
   "source": [
    "from __future__ import division\n",
    "import pandas as pd\n",
    "import numpy as np\n",
    "import random\n",
    "import time\n",
    "from pyomo.environ import *\n",
    "from pyomo.opt import SolverFactory\n",
    "import matplotlib.pyplot as plt\n",
    "import gym\n",
    "from gym import spaces, logger\n",
    "from random import choice\n",
    "from mlxtend.preprocessing import one_hot\n",
    "import scipy.stats as stats\n",
    "import math"
   ]
  },
  {
   "cell_type": "code",
   "execution_count": 4,
   "metadata": {},
   "outputs": [],
   "source": [
    "class make_network(gym.Env):\n",
    "\n",
    "    def __init__(self):\n",
    "\n",
    "        # read technical parameters of distribution network from input excel\n",
    "        self.network_data = pd.read_excel('topology.template 42M.xlsx', sheet_name=None)\n",
    "        \n",
    "        # bus name and voltage limits\n",
    "        self.Bus_name = self.network_data['BUSES']['NAME'].values\n",
    "        self.Bus_v = self.network_data['BUSES']['U'].values\n",
    "        self.Bus_min_v = self.network_data['BUSES']['UMIN'].values\n",
    "        self.Bus_max_v = self.network_data['BUSES']['UMAX'].values\n",
    "        \n",
    "        # line name, topology, reactance, resistance, current limit\n",
    "        self.Line_name = self.network_data['LINES']['NAME'].values\n",
    "        self.Line_from = self.network_data['LINES']['BUS1'].values\n",
    "        self.Line_to = self.network_data['LINES']['BUS2'].values\n",
    "        self.Line_x = self.network_data['LINES']['X'].values\n",
    "        self.Line_r = self.network_data['LINES']['R'].values\n",
    "        self.Line_max_i = self.network_data['LINES']['CURRENTLIMIT'].values\n",
    "        \n",
    "        # transformer name, topology, reactance, resistance\n",
    "        self.Transformer_name = self.network_data['TRANSFORMERS']['NAME'].values\n",
    "        self.Transformer_from = self.network_data['TRANSFORMERS']['BUS1'].values\n",
    "        self.Transformer_to = self.network_data['TRANSFORMERS']['BUS2'].values\n",
    "        self.Transformer_x = self.network_data['TRANSFORMERS']['X'].values\n",
    "        self.Transformer_r = self.network_data['TRANSFORMERS']['R'].values\n",
    "        \n",
    "        # load name, topology, active and reactive power, shedding cost\n",
    "        self.Load_name = self.network_data['LOADS']['NAME'].values\n",
    "        self.Load_bus = self.network_data['LOADS']['BUS'].values\n",
    "        self.Load_p = self.network_data['LOADS']['P'].values * 1000\n",
    "        self.Load_q = self.network_data['LOADS']['Q'].values * 1000\n",
    "        self.Load_cost = self.network_data['LOADS']['LAMBDA'].values\n",
    "        \n",
    "        # generator name, topology, active power capacity, reactive power capacity\n",
    "        self.DG_name = self.network_data['GENERATORS']['NAME'].values\n",
    "        self.DG_bus = self.network_data['GENERATORS']['BUS'].values\n",
    "        self.DG_min_p = self.network_data['GENERATORS']['MINP'].values * 1000\n",
    "        self.DG_max_p = self.network_data['GENERATORS']['MAXP'].values * 1000\n",
    "        self.DG_min_q = self.network_data['GENERATORS']['MINQ'].values * 1000\n",
    "        self.DG_max_q = self.network_data['GENERATORS']['MAXQ'].values * 1000\n",
    "        \n",
    "        # switch name, topology, status\n",
    "        self.Switch_name = self.network_data['SWITCHES']['NAME'].values\n",
    "        self.Switch_from = self.network_data['SWITCHES']['BUS1'].values\n",
    "        self.Switch_to = self.network_data['SWITCHES']['BUS2'].values\n",
    "        self.Switch_status = self.network_data['SWITCHES']['OPEN'].values\n",
    "        \n",
    "        # number of bus, line, transformer, load, generator\n",
    "        self.n_bus = self.network_data['BUSES'].shape[0]\n",
    "        self.n_line = self.network_data['LINES'].shape[0] \n",
    "        self.n_transformer = self.network_data['TRANSFORMERS'].shape[0] \n",
    "        self.n_load = self.network_data['LOADS'].shape[0]\n",
    "        self.n_dg = self.network_data['GENERATORS'].shape[0]\n",
    "        self.n_switch = self.network_data['SWITCHES'].shape[0]\n",
    "        \n",
    "    def ACOPF_model(self):\n",
    "        \n",
    "        # construct optimisation model\n",
    "        model = ConcreteModel('ACOPF')\n",
    "        \n",
    "        # Define sets\n",
    "        model.B = Set(initialize=[b for b in range(self.n_bus)], doc='Buses', ordered=True)\n",
    "        model.L = Set(initialize=[l for l in range(self.n_line)], doc='Lines', ordered=True)\n",
    "        model.F = Set(initialize=[f for f in range(self.n_transformer)], doc='Transformers', ordered=True)\n",
    "        model.D = Set(initialize=[d for d in range(self.n_load)], doc='Loads', ordered=True)\n",
    "        model.G = Set(initialize=[g for g in range(self.n_dg)], doc='Generators', ordered=True)\n",
    "        model.S = Set(initialize=[s for s in range(self.n_switch)], doc='Switches', ordered=True)\n",
    "\n",
    "        # Define variables\n",
    "        model.dg_p = Var(model.G, domain=Reals) # generator active power\n",
    "        model.loadshed_p = Var(model.D, domain=NonNegativeReals) # active load shedding\n",
    "        model.las = Var(model.L, domain=Reals) # line active power flow sending\n",
    "        model.lar = Var(model.L, domain=Reals) # line active power flow receiving\n",
    "        model.lrs = Var(model.L, domain=Reals) # line reactive power flow sending\n",
    "        model.lrr = Var(model.L, domain=Reals) # line reactive power flow receiving\n",
    "        model.fas = Var(model.F, domain=Reals) # transformer active power flow sending\n",
    "        model.far = Var(model.F, domain=Reals) # transformer active power flow receiving\n",
    "        model.frs = Var(model.F, domain=Reals) # transformer reactive power flow sending\n",
    "        model.frr = Var(model.F, domain=Reals) # transformer reactive power flow receiving\n",
    "        model.sas = Var(model.S, domain=Reals) # switch active power flow sending\n",
    "        model.sar = Var(model.S, domain=Reals) # switch active power flow receiving\n",
    "        model.srs = Var(model.S, domain=Reals) # switch eactive power flow sending\n",
    "        model.srr = Var(model.S, domain=Reals) # switch reactive power flow receiving\n",
    "        model.volt = Var(model.B, domain=NonNegativeReals) # bus voltage**2\n",
    "        model.lcurrent = Var(model.L, domain=NonNegativeReals) # line current**2\n",
    "        model.fcurrent = Var(model.F, domain=NonNegativeReals) # transformer current**2\n",
    "        model.grid_buy = Var(domain=NonNegativeReals)\n",
    "        model.grid_sell = Var(domain=NonPositiveReals)\n",
    "        model.grid_status = Var(domain=Binary)\n",
    "\n",
    "        # generator operating constraints\n",
    "        def _dg_p_UB_stay(model, g):\n",
    "            return model.dg_p[g] <= self.DG_max_p[g]\n",
    "        model.dg_p_UB_stay = Constraint(model.G, rule=_dg_p_UB_stay)\n",
    "\n",
    "        def _dg_p_LB_stay(model, g):\n",
    "            return model.dg_p[g] >= self.DG_min_p[g]\n",
    "        model.dg_p_LB_stay = Constraint(model.G, rule=_dg_p_LB_stay)\n",
    "\n",
    "        # load shedding constraint\n",
    "        def _loadshed_p_UB_(model, d):\n",
    "            return model.loadshed_p[d] <= self.Load_p[d]\n",
    "        model.loadshed_p_UB_ = Constraint(model.D, rule=_loadshed_p_UB_)\n",
    "\n",
    "        # nodal active power balance\n",
    "        def _node_balance_active_(model, b): \n",
    "            return + sum(model.dg_p[g] for g in model.G if self.DG_bus[g] == self.Bus_name[b]) \\\n",
    "                   - sum(self.Load_p[d] for d in model.D if self.Load_bus[d] == self.Bus_name[b]) \\\n",
    "                   + sum(model.loadshed_p[d] for d in model.D if self.Load_bus[d] == self.Bus_name[b]) == \\\n",
    "                   + sum(model.las[l] for l in model.L if self.Line_from[l] == self.Bus_name[b]) \\\n",
    "                   + sum(model.lar[l] for l in model.L if self.Line_to[l] == self.Bus_name[b]) \\\n",
    "                   + sum(model.fas[f] for f in model.F if self.Transformer_from[f] == self.Bus_name[b]) \\\n",
    "                   + sum(model.far[f] for f in model.F if self.Transformer_to[f] == self.Bus_name[b]) \\\n",
    "                   + sum(model.sas[s] for s in model.S if self.Switch_from[s] == self.Bus_name[b]) \\\n",
    "                   + sum(model.sar[s] for s in model.S if self.Switch_to[s] == self.Bus_name[b])\n",
    "        model.NodeBalanceActive_ = Constraint(model.B, rule=_node_balance_active_)\n",
    "\n",
    "        # nodal voltage constraints\n",
    "        def _volt_UB_(model, b):\n",
    "            return model.volt[b] <= self.Bus_max_v[b]**2\n",
    "        model.volt_UB_ = Constraint(model.B, rule=_volt_UB_)\n",
    "        \n",
    "        def _volt_LB_(model, b):\n",
    "            return model.volt[b] >= self.Bus_min_v[b]**2\n",
    "        model.volt_LB_ = Constraint(model.B, rule=_volt_LB_)\n",
    "        \n",
    "        print(self.Bus_max_v)\n",
    "        \n",
    "        #---------------------- line constraints ----------------------#\n",
    "        # line current constraints\n",
    "        def _line_current_UB_(model, l):\n",
    "            return model.lcurrent[l] <= self.Line_max_i[l]**2\n",
    "        model.line_current_UB_ = Constraint(model.L, rule=_line_current_UB_)\n",
    "        \n",
    "        # second order cone distflow\n",
    "        def _line_equal_1(model, l):\n",
    "            return model.las[l] == - model.lar[l]\n",
    "        model.line_equal_1 = Constraint(model.L, rule=_line_equal_1)\n",
    "\n",
    "        def _line_equal_2(model, l):\n",
    "            return model.lrs[l] == - model.lrr[l]\n",
    "        model.line_equal_2 = Constraint(model.L, rule=_line_equal_2)\n",
    "        \n",
    "        # line power flow constraints \n",
    "        def _line_flow_send_UB_(model, l):\n",
    "            return model.lar[l] * model.lar[l] + model.lrr[l] * model.lrr[l] <= \\\n",
    "                   sum(model.lcurrent[l] * model.volt[b] for b in model.B if self.Line_from[l] == self.Bus_name[b])\n",
    "        model.line_flow_send_UB_ = Constraint(model.L, rule=_line_flow_send_UB_)\n",
    "        \n",
    "        # linearized distflow\n",
    "        def line_flow_(model, l):\n",
    "            return (sum(model.volt[b] for b in model.B if self.Bus_name[b] == self.Line_from[l]) - \\\n",
    "                    sum(model.volt[b] for b in model.B if self.Bus_name[b] == self.Line_to[l])) == \\\n",
    "                    2 * (self.Line_r[l] * model.las[l] + self.Line_x[l] * model.lrs[l])\n",
    "        model.LinePhaseActiveFlow = Constraint(model.L, rule=line_flow_)\n",
    "        \n",
    "        #---------------------- transformer constraints ----------------------#\n",
    "        def _transformer_equal_1(model, f):\n",
    "            return model.fas[f] == - model.far[f]\n",
    "        model.transformer_equal_1 = Constraint(model.F, rule=_transformer_equal_1)\n",
    "\n",
    "        def _transformer_equal_2(model, f):\n",
    "            return model.frs[f] == - model.frr[f]\n",
    "        model.transformer_equal_2 = Constraint(model.F, rule=_transformer_equal_2)\n",
    "        \n",
    "        # linearized distflow\n",
    "#         def transformer_flow_(model, f):\n",
    "#             return (sum(model.volt[b] for b in model.B if self.Bus_name[b] == self.Transformer_from[f]) - \\\n",
    "#                     sum(model.volt[b] for b in model.B if self.Bus_name[b] == self.Transformer_to[f])) >= \\\n",
    "#                     2 * (self.Transformer_r[f] * model.fas[f] + self.Transformer_x[f] * model.frs[f])\n",
    "#         model.TransformerPhaseActiveFlow = Constraint(model.F, rule=transformer_flow_)\n",
    "        \n",
    "        #---------------------- switch constraints ----------------------#\n",
    "        def _switch_equal_1(model, s):\n",
    "            return model.sas[s] == - model.sar[s]\n",
    "        model.switch_equal_1 = Constraint(model.S, rule=_switch_equal_1)\n",
    "\n",
    "        def _switch_equal_2(model, s):\n",
    "            return model.srs[s] == - model.srr[s]\n",
    "        model.switch_equal_2 = Constraint(model.S, rule=_switch_equal_2)\n",
    "        \n",
    "        def _switch_status_connect_(model, s):\n",
    "            if self.Switch_status[s] == 'OPEN':\n",
    "                return model.sas[s] == 0   \n",
    "            return Constraint.Skip\n",
    "        model.switch_status_connect_ = Constraint(model.S, rule=_switch_status_connect_)\n",
    "        \n",
    "        # --------------- outage scenario -----------------\n",
    "        damage = []\n",
    "        def _outage_status_connect_(model, l):\n",
    "            for i in range(len(damage)):\n",
    "                if l == damage[i]:\n",
    "                    return model.lcurrent[l] == 0\n",
    "            return Constraint.Skip\n",
    "        model.outage_status_connect_ = Constraint(model.L, rule=_outage_status_connect_)\n",
    "        \n",
    "        # -------------- objective function --------------     \n",
    "        def _grid_buy_sell_(model):\n",
    "            return model.dg_p[0] == model.grid_buy + model.grid_sell\n",
    "        model.grid_buy_sell = Constraint(rule=_grid_buy_sell_)\n",
    "        \n",
    "        def _grid_buy_limit_(model):\n",
    "            return model.grid_buy <= model.grid_status * self.DG_max_p[0]\n",
    "        model.grid_buy_limit = Constraint(rule=_grid_buy_limit_)\n",
    "        \n",
    "        def _grid_sell_limit_(model):\n",
    "            return model.grid_sell >= (1-model.grid_status) * self.DG_min_p[0]\n",
    "        model.grid_sell_limit = Constraint(rule=_grid_sell_limit_)\n",
    "        \n",
    "        def _obj_(model):\n",
    "            return sum(self.Load_cost[d] * model.loadshed_p[d] for d in model.D) + model.grid_buy * 0.1\n",
    "        model.objective = Objective(rule=_obj_, sense=minimize)\n",
    "\n",
    "        return model"
   ]
  },
  {
   "cell_type": "code",
   "execution_count": 5,
   "metadata": {
    "scrolled": false
   },
   "outputs": [
    {
     "name": "stderr",
     "output_type": "stream",
     "text": [
      "C:\\Users\\Dawei Qiu\\anaconda3\\lib\\site-packages\\openpyxl\\worksheet\\_read_only.py:79: UserWarning: Data Validation extension is not supported and will be removed\n",
      "  for idx, row in parser.parse():\n"
     ]
    },
    {
     "name": "stdout",
     "output_type": "stream",
     "text": [
      "[22.   22.   22.   22.   22.   22.   22.   22.    0.44 22.   22.   22.\n",
      " 22.   22.   22.   22.   22.    0.44 22.   22.   22.   22.    0.44 22.\n",
      "  0.44 22.   22.   22.   22.   22.   22.   22.   22.   22.   22.   22.\n",
      " 22.   22.   22.   22.   22.   22.   22.   22.    0.44 22.   22.   22.\n",
      " 22.   22.   22.   22.   22.    0.44 22.   22.   22.   22.   22.   22.\n",
      " 22.   22.   22.   22.   22.   22.   22.   22.   22.   22.   22.   22.\n",
      " 22.   22.   22.   22.   22.   22.   22.   22.   22.   22.   22.   22.\n",
      " 22.   22.   22.   22.    0.44 22.   22.   22.   22.   22.   22.   22.\n",
      " 22.   22.   22.   22.   22.   22.   22.   22.   22.   22.   22.   22.\n",
      " 22.   22.   22.   22.   22.   22.   22.   22.   22.   22.   22.   22.\n",
      " 22.   22.   22.   22.   22.  ]\n",
      "Set parameter Username\n",
      "Academic license - for non-commercial use only - expires 2024-08-16\n",
      "Read LP format model from file C:\\Users\\DAWEIQ~1\\AppData\\Local\\Temp\\tmpvx4p3jlq.pyomo.lp\n",
      "Reading time = 0.02 seconds\n",
      "x797: 927 rows, 790 columns, 1684 nonzeros\n",
      "Gurobi Optimizer version 10.0.2 build v10.0.2rc0 (win64)\n",
      "\n",
      "CPU model: AMD Ryzen 5 4600H with Radeon Graphics, instruction set [SSE2|AVX|AVX2]\n",
      "Thread count: 6 physical cores, 12 logical processors, using up to 12 threads\n",
      "\n",
      "Optimize a model with 927 rows, 790 columns and 1684 nonzeros\n",
      "Model fingerprint: 0xebd507c4\n",
      "Model has 109 quadratic constraints\n",
      "Variable types: 789 continuous, 1 integer (1 binary)\n",
      "Coefficient statistics:\n",
      "  Matrix range     [2e-03, 5e+04]\n",
      "  QMatrix range    [1e+00, 1e+00]\n",
      "  Objective range  [1e-01, 1e+01]\n",
      "  Bounds range     [1e+00, 1e+00]\n",
      "  RHS range        [1e-01, 2e+05]\n",
      "Presolve removed 767 rows and 355 columns\n",
      "Presolve time: 0.01s\n",
      "Presolved: 160 rows, 435 columns, 585 nonzeros\n",
      "Presolved model has 109 quadratic constraint(s)\n",
      "Variable types: 435 continuous, 0 integer (0 binary)\n",
      "Root relaxation presolve time: 0.01s\n",
      "Root relaxation presolved: 798 rows, 659 columns, 1665 nonzeros\n",
      "Root relaxation presolved model has 109 second-order cone constraints\n",
      "Root barrier log...\n",
      "\n",
      "Ordering time: 0.00s\n",
      "\n",
      "Barrier statistics:\n",
      " AA' NZ     : 4.151e+03\n",
      " Factor NZ  : 8.452e+03 (roughly 1 MB of memory)\n",
      " Factor Ops : 1.050e+05 (less than 1 second per iteration)\n",
      " Threads    : 1\n",
      "\n",
      "                  Objective                Residual\n",
      "Iter       Primal          Dual         Primal    Dual     Compl     Time\n",
      "   0   3.63408033e+05 -1.01044630e+07  1.75e+04 7.34e+00  6.12e+04     0s\n",
      "   1   2.84361108e+04 -5.88038949e+06  2.11e+03 1.04e+00  1.02e+04     0s\n",
      "   2   2.99881773e+04 -1.13246719e+06  2.32e+02 6.41e-02  1.29e+03     0s\n",
      "   3   2.08701714e+04 -4.21478017e+05  4.17e+01 2.18e-02  4.20e+02     0s\n",
      "   4   3.52181367e+03 -1.23969759e+05  1.68e+01 5.69e-03  1.21e+02     0s\n",
      "   5   2.15360640e+03 -4.10528641e+04  1.49e+00 1.63e-03  3.76e+01     0s\n",
      "   6   1.05859131e+03 -9.10356228e+03  9.99e-02 3.64e-04  8.68e+00     0s\n",
      "   7   8.18314703e+02 -1.98246725e+03  4.71e-02 8.01e-05  2.34e+00     0s\n",
      "   8   6.29300376e+02 -6.74768473e+02  4.32e-03 3.89e-05  1.09e+00     0s\n",
      "   9   6.05120940e+02  2.94870371e+02  9.53e-04 8.89e-06  2.59e-01     0s\n",
      "  10   6.00082255e+02  5.04994958e+02  1.76e-04 2.49e-06  7.89e-02     0s\n",
      "  11   5.98515308e+02  5.78950086e+02  5.41e-06 4.70e-07  1.61e-02     0s\n",
      "  12   5.98275732e+02  5.92348815e+02  1.07e-07 1.37e-07  4.88e-03     0s\n",
      "  13   5.98223804e+02  5.96717727e+02  6.80e-08 3.32e-08  1.24e-03     0s\n",
      "  14   5.98213545e+02  5.97817233e+02  2.36e-07 7.95e-09  3.24e-04     0s\n",
      "  15   5.98208987e+02  5.98184928e+02  8.23e-08 2.28e-10  1.90e-05     0s\n",
      "  16   5.98207882e+02  5.98204368e+02  2.57e-07 4.62e-11  2.77e-06     0s\n",
      "  17   5.98207822e+02  5.98206899e+02  2.73e-03 1.69e-05  7.31e-07     0s\n",
      "\n",
      "Barrier solved model in 17 iterations and 0.02 seconds (0.01 work units)\n",
      "Optimal objective 5.98207822e+02\n",
      "\n",
      "\n",
      "Root relaxation: objective 5.982078e+02, 0 iterations, 0.02 seconds (0.01 work units)\n",
      "\n",
      "    Nodes    |    Current Node    |     Objective Bounds      |     Work\n",
      " Expl Unexpl |  Obj  Depth IntInf | Incumbent    BestBd   Gap | It/Node Time\n",
      "\n",
      "*    0     0               0     598.2078224  598.20782  0.00%     -    0s\n",
      "\n",
      "Explored 1 nodes (0 simplex iterations) in 0.05 seconds (0.02 work units)\n",
      "Thread count was 12 (of 12 available processors)\n",
      "\n",
      "Solution count 1: 598.208 \n",
      "\n",
      "Optimal solution found (tolerance 1.00e-04)\n",
      "Warning: max constraint violation (9.0040e-04) exceeds tolerance\n",
      "Best objective 5.982078224415e+02, best bound 5.982078224415e+02, gap 0.0000%\n",
      "598.2078224415081\n"
     ]
    }
   ],
   "source": [
    "Network = make_network()\n",
    "inst = Network.ACOPF_model()\n",
    "solver = SolverFactory ('gurobi', tee=True)\n",
    "result = solver.solve (inst, tee=True)\n",
    "print(value(inst.objective))"
   ]
  },
  {
   "cell_type": "code",
   "execution_count": 83,
   "metadata": {},
   "outputs": [],
   "source": [
    "Load_SP = np.zeros(Network.n_load)\n",
    "Load_P = np.zeros(Network.n_load)\n",
    "DG_P = np.zeros(Network.n_dg)\n",
    "LineFlow_P = np.zeros(Network.n_line)\n",
    "LineCurrent = np.zeros(Network.n_line)\n",
    "TransformerFlow_P = np.zeros(Network.n_transformer)\n",
    "SwitchFlow_P = np.zeros(Network.n_switch)\n",
    "BusVoltage = np.zeros(Network.n_bus)\n",
    "\n",
    "for d in inst.D:\n",
    "    Load_SP[d] = value(inst.loadshed_p[d])\n",
    "    Load_P[d] = Network.Load_p[d] - Load_SP[d]\n",
    "for g in inst.G:\n",
    "    DG_P[g] = value(inst.dg_p[g])\n",
    "for l in inst.L:\n",
    "    LineFlow_P[l] = value(inst.las[l])\n",
    "    LineCurrent[l] = value(inst.lcurrent[l])**0.5\n",
    "for f in inst.F:\n",
    "    TransformerFlow_P[f] = value(inst.fas[f])\n",
    "for s in inst.S:\n",
    "    SwitchFlow_P[s] = value(inst.sas[s])\n",
    "for b in inst.B:\n",
    "    BusVoltage[b] = value(inst.volt[b])**0.5"
   ]
  },
  {
   "cell_type": "code",
   "execution_count": 84,
   "metadata": {
    "scrolled": false
   },
   "outputs": [
    {
     "data": {
      "image/png": "[encoded data removed]",
      "text/plain": [
       "<Figure size 1440x180 with 2 Axes>"
      ]
     },
     "metadata": {
      "needs_background": "light"
     },
     "output_type": "display_data"
    },
    {
     "name": "stdout",
     "output_type": "stream",
     "text": [
      "P demand: 9228.991313720051\n",
      "P shedding: 499.0086862799493\n"
     ]
    }
   ],
   "source": [
    "LoadP_percent_shed = [100*(SP/P) for SP, P in zip(Load_SP, Network.Load_p)]\n",
    "Small_Load_base, Small_Load, Small_Load_Shed, Small_Load_Shed_Pec = [], [], [], []\n",
    "Large_Load_base, Large_Load, Large_Load_Shed, Large_Load_Shed_Pec = [], [], [], []\n",
    "for d in range(len(Network.Load_p)):\n",
    "    if Network.Load_p[d] >= 3000:\n",
    "        Large_Load_base.append(Network.Load_p[d])\n",
    "        Large_Load.append(Load_P[d])\n",
    "        Large_Load_Shed.append(Load_SP[d])\n",
    "        Large_Load_Shed_Pec.append(100*(Load_SP[d]/Network.Load_p[d]))\n",
    "    else:\n",
    "        Small_Load_base.append(Network.Load_p[d])\n",
    "        Small_Load.append(Load_P[d])\n",
    "        Small_Load_Shed.append(Load_SP[d])\n",
    "        Small_Load_Shed_Pec.append(100*(Load_SP[d]/Network.Load_p[d]))\n",
    "        \n",
    "# plot figure\n",
    "fig = plt.figure(figsize=(20,2.5))\n",
    "grid = plt.GridSpec(1,35, wspace=2, hspace=0)\n",
    "x0 = range(len(Small_Load_base))\n",
    "x1 = range(len(Large_Load_base))\n",
    "width = 0.5\n",
    "space = 0.5\n",
    "text1 = 10\n",
    "text2 = 12\n",
    "text3 = 14\n",
    "font1 = {'family': 'Times New Roman', 'weight': 'normal', 'size': text1}\n",
    "font2 = {'family': 'Times New Roman', 'weight': 'normal', 'size': text2}\n",
    "\n",
    "# plot small load\n",
    "ax = fig.add_subplot(grid[0,0:31])\n",
    "bar1 = plt.bar(x0, Small_Load, width, label='Net Load')\n",
    "bar2 = plt.bar(x0, Small_Load_Shed, width, bottom=Small_Load, label='Shedding')\n",
    "# function to add value labels\n",
    "def addlabels(h,y):\n",
    "    for i in range(len(Small_Load)):\n",
    "        plt.text(i, h[i], f\"{y[i]:.0f}%\", ha='center', fontname='Times New Roman', fontsize=text2)\n",
    "addlabels(Small_Load_base, Small_Load_Shed_Pec)\n",
    "plt.grid(which='major', linestyle='--', axis='y')\n",
    "plt.tick_params(labelsize = text2)\n",
    "plt.xticks(np.linspace(0,32,33), fontname = \"Times New Roman\")\n",
    "plt.yticks(np.linspace(0,160,5), fontname = \"Times New Roman\")\n",
    "plt.xticks([0,1,2,3,4,5,6,7,8,9,10,11,12,13,14,15,16,17,18,19,20,21,22,23,24,25,26,27,28,29,30,31,32],\n",
    "           [1,3,5,115,13,18,36,30,32,39,42,44,46,48,50,53,55,58,60,62,64,65,67,70,71,73,75,76,78,80,81,90,135])\n",
    "plt.xlim(-0.5,32.5)\n",
    "plt.ylabel('Small load (kW)', font2)\n",
    "plt.xlabel('Bus', font2)\n",
    "legend = plt.legend(loc='upper right', prop=font1, labelspacing=space, framealpha=1, ncol=1, bbox_to_anchor=(1,1))\n",
    "\n",
    "# plot large load\n",
    "ax = fig.add_subplot(grid[0,-3:])\n",
    "bar1 = plt.bar(x1, Large_Load, width, label='Net')\n",
    "bar2 = plt.bar(x1, Large_Load_Shed, width, bottom=Large_Load, label='Shed')\n",
    "# function to add value labels\n",
    "def addlabels(h,y):\n",
    "    for i in range(len(Large_Load)):\n",
    "        plt.text(i, h[i], f\"{y[i]:.0f}%\", ha='center', fontname='Times New Roman', fontsize=text2)\n",
    "addlabels(Large_Load_base, Large_Load_Shed_Pec)\n",
    "plt.grid(which='major', linestyle='--', axis='y')\n",
    "plt.tick_params(labelsize = text2)\n",
    "plt.xticks(np.linspace(0,1,2), fontname=\"Times New Roman\")\n",
    "plt.yticks(np.linspace(0,4000,6), fontname=\"Times New Roman\")\n",
    "plt.xticks([0,1],[83,85])\n",
    "plt.xlim(-0.5,1.5)\n",
    "plt.ylabel('Large load (kW)', font2)\n",
    "plt.xlabel('Bus', font2)\n",
    "plt.savefig('Base_Load.jpg', bbox_inches='tight', dpi = 900)\n",
    "plt.show()\n",
    "\n",
    "print('P demand:', np.sum(Load_P))\n",
    "print('P shedding:', np.sum(Load_SP))"
   ]
  },
  {
   "cell_type": "code",
   "execution_count": 86,
   "metadata": {},
   "outputs": [
    {
     "data": {
      "image/png": "[encoded data removed]",
      "text/plain": [
       "<Figure size 1008x144 with 2 Axes>"
      ]
     },
     "metadata": {
      "needs_background": "light"
     },
     "output_type": "display_data"
    },
    {
     "name": "stdout",
     "output_type": "stream",
     "text": [
      "P supply: 9228.991313716031\n",
      "Gen 8: 100.0\n",
      "Gen 8: 99.9999996891438\n",
      "Gen 24: 99.99999968914446\n",
      "Gen 88: 67.0\n",
      "Gen 88: 99.99999996891432\n"
     ]
    }
   ],
   "source": [
    "fig = plt.figure(figsize=(14,2))\n",
    "grid = plt.GridSpec(1,21, wspace=5, hspace=0)\n",
    "x0 = range(1)\n",
    "x1 = range(Network.n_dg-1)\n",
    "width = 0.5\n",
    "space = 0.5\n",
    "text1 = 10\n",
    "text2 = 12\n",
    "font1 = {'family': 'Times New Roman', 'weight': 'normal', 'size': text1}\n",
    "font2 = {'family': 'Times New Roman', 'weight': 'normal', 'size': text2}\n",
    "\n",
    "# plot grid power\n",
    "ax = fig.add_subplot(grid[0,:2])\n",
    "bar1 = plt.bar(x0, DG_P[0], width)\n",
    "plt.text(0, DG_P[0], f\"{DG_P[0]:.0f}\", ha='center', fontname='Times New Roman', fontsize=text2)\n",
    "plt.grid(which='major', linestyle='--', axis='y')\n",
    "plt.tick_params(labelsize = text2)\n",
    "plt.xticks(np.linspace(0,0,1), fontname = \"Times New Roman\")\n",
    "plt.yticks(np.linspace(0,1200,7), fontname = \"Times New Roman\")\n",
    "plt.xticks([0],[0])\n",
    "plt.xlim(-0.5,0.5)\n",
    "plt.ylim(0,1200)\n",
    "plt.ylabel('Main Gird (kW)', font2)\n",
    "plt.xlabel('Bus', font2)\n",
    "\n",
    "ax = fig.add_subplot(grid[0,-18:])\n",
    "bar1 = plt.bar(x1, DG_P[-20:], width)\n",
    "def addlabels(h,y):\n",
    "    for i in range(len(DG_P[-20:])):\n",
    "        plt.text(i, DG_P[-20:][i], f\"{DG_P[-20:][i]:.0f}\", ha='center', fontname='Times New Roman', fontsize=text2)\n",
    "addlabels(DG_P[-20:], DG_P[-20:])\n",
    "plt.grid(which='major', linestyle='--', axis='y')\n",
    "plt.tick_params(labelsize = text2)\n",
    "plt.xticks(np.linspace(0,19,20), fontname = \"Times New Roman\")\n",
    "plt.yticks(np.linspace(0,1200,7), fontname = \"Times New Roman\")\n",
    "plt.xticks([0,1,2,3,4,5,6,7,8,9,10,11,12,13,14,15,16,17,18,19],\n",
    "           [8,8,11,17,24,26,33,34,22,88,88,119,120,126,128,130,133,132,122,124])\n",
    "plt.xlim(-0.5,19.5)\n",
    "plt.ylim(0,1200)\n",
    "plt.ylabel('Distributed Generator (kW)', font2)\n",
    "plt.xlabel('Bus', font2)\n",
    "plt.savefig('Base_Gen.jpg', bbox_inches='tight', dpi = 900)\n",
    "plt.show()\n",
    "\n",
    "print('P supply:', np.sum(DG_P))\n",
    "print('Gen 8:', np.sum(DG_P[1]))\n",
    "print('Gen 8:', np.sum(DG_P[2]))\n",
    "print('Gen 24:', np.sum(DG_P[5]))\n",
    "print('Gen 88:', np.sum(DG_P[10]))\n",
    "print('Gen 88:', np.sum(DG_P[11]))"
   ]
  },
  {
   "cell_type": "code",
   "execution_count": 76,
   "metadata": {},
   "outputs": [
    {
     "data": {
      "image/png": "[encoded data removed]",
      "text/plain": [
       "<Figure size 1440x180 with 1 Axes>"
      ]
     },
     "metadata": {
      "needs_background": "light"
     },
     "output_type": "display_data"
    },
    {
     "name": "stdout",
     "output_type": "stream",
     "text": [
      "Line 46: Bus 45-47: 447.9999923587613\n",
      "Line 54: Bus 54-65: 447.99203846366163\n"
     ]
    }
   ],
   "source": [
    "fig = plt.figure(figsize=(20,2.5))\n",
    "x = range(Network.n_line)\n",
    "width = 0.5\n",
    "space = 0.5\n",
    "text1 = 10\n",
    "text2 = 12\n",
    "font1 = {'family': 'Times New Roman', 'weight': 'normal', 'size': text1}\n",
    "font2 = {'family': 'Times New Roman', 'weight': 'normal', 'size': text2}\n",
    "# plot active generation\n",
    "bar1 = plt.bar(x, LineCurrent, width)\n",
    "plt.grid(which='major', linestyle='--', axis='y')\n",
    "plt.tick_params(labelsize = text2)\n",
    "plt.xticks(fontname = \"Times New Roman\")\n",
    "plt.yticks(np.linspace(0,450,6), fontname = \"Times New Roman\")\n",
    "plt.xlim(-1,109)\n",
    "plt.ylabel('Line current (A)', font2)\n",
    "plt.xlabel('Line Index', font2)\n",
    "plt.show()\n",
    "print('Line 46: Bus 45-47:', LineCurrent[45])\n",
    "print('Line 54: Bus 54-65:', LineCurrent[53])"
   ]
  },
  {
   "cell_type": "code",
   "execution_count": 62,
   "metadata": {},
   "outputs": [
    {
     "name": "stderr",
     "output_type": "stream",
     "text": [
      "C:\\Users\\Dawei Qiu\\anaconda3\\lib\\site-packages\\ipykernel_launcher.py:11: MatplotlibDeprecationWarning: The 'b' parameter of grid() has been renamed 'visible' since Matplotlib 3.5; support for the old name will be dropped two minor releases later.\n",
      "  # This is added back by InteractiveShellApp.init_path()\n"
     ]
    },
    {
     "data": {
      "image/png": "[encoded data removed]",
      "text/plain": [
       "<Figure size 1440x180 with 1 Axes>"
      ]
     },
     "metadata": {
      "needs_background": "light"
     },
     "output_type": "display_data"
    },
    {
     "name": "stdout",
     "output_type": "stream",
     "text": [
      "Line 46: Bus 45-47: 7793.741702648075\n",
      "Max Line 46: Bus 45-47: 9856\n"
     ]
    }
   ],
   "source": [
    "fig = plt.figure(figsize=(20,2.5))\n",
    "x = range(Network.n_line)\n",
    "width = 0.5\n",
    "space = 0.5\n",
    "text1 = 10\n",
    "text2 = 12\n",
    "font1 = {'family': 'Times New Roman', 'weight': 'normal', 'size': text1}\n",
    "font2 = {'family': 'Times New Roman', 'weight': 'normal', 'size': text2}\n",
    "# plot active generation\n",
    "bar1 = plt.bar(x, LineFlow_P, width)\n",
    "plt.grid(b=None, which='major', linestyle='--', axis='y')\n",
    "plt.tick_params(labelsize = text2)\n",
    "plt.xticks(fontname = \"Times New Roman\")\n",
    "plt.yticks(np.linspace(-2000,9000,12), fontname = \"Times New Roman\")\n",
    "plt.xlim(-1,109)\n",
    "plt.ylabel('Line power flow (kW)', font2)\n",
    "plt.xlabel('Line Index', font2)\n",
    "plt.show()\n",
    "print('Line 46: Bus 45-47:', LineFlow_P[45])\n",
    "print('Max Line 46: Bus 45-47:', 448*22)"
   ]
  },
  {
   "cell_type": "code",
   "execution_count": 63,
   "metadata": {},
   "outputs": [
    {
     "name": "stderr",
     "output_type": "stream",
     "text": [
      "C:\\Users\\Dawei Qiu\\anaconda3\\lib\\site-packages\\ipykernel_launcher.py:11: MatplotlibDeprecationWarning: The 'b' parameter of grid() has been renamed 'visible' since Matplotlib 3.5; support for the old name will be dropped two minor releases later.\n",
      "  # This is added back by InteractiveShellApp.init_path()\n"
     ]
    },
    {
     "data": {
      "image/png": "[encoded data removed]",
      "text/plain": [
       "<Figure size 1440x180 with 1 Axes>"
      ]
     },
     "metadata": {
      "needs_background": "light"
     },
     "output_type": "display_data"
    },
    {
     "name": "stdout",
     "output_type": "stream",
     "text": [
      "Bus 6: 19.316114833928914\n",
      "Bus 7: 20.077781352289467\n",
      "Bus 86: 20.209642278984994\n",
      "Bus 87: 20.36689089861754\n"
     ]
    }
   ],
   "source": [
    "fig = plt.figure(figsize=(20,2.5))\n",
    "x = range(Network.n_bus)\n",
    "width = 0.5\n",
    "space = 0.5\n",
    "text1 = 10\n",
    "text2 = 12\n",
    "font1 = {'family': 'Times New Roman', 'weight': 'normal', 'size': text1}\n",
    "font2 = {'family': 'Times New Roman', 'weight': 'normal', 'size': text2}\n",
    "# plot active generation\n",
    "bar1 = plt.bar(x, BusVoltage, width)\n",
    "plt.grid(b=None, which='major', linestyle='--', axis='y')\n",
    "plt.tick_params(labelsize = text2)\n",
    "plt.xticks(np.linspace(0,124,32), fontname = \"Times New Roman\")\n",
    "plt.yticks(np.linspace(0,22,12), fontname = \"Times New Roman\")\n",
    "plt.xlim(-1,125)\n",
    "plt.ylim(0,22)\n",
    "plt.ylabel('Bus voltage (kV)', font2)\n",
    "plt.xlabel('Bus Index', font2)\n",
    "plt.show()\n",
    "\n",
    "print('Bus 6:', BusVoltage[6])\n",
    "print('Bus 7:', BusVoltage[7])\n",
    "print('Bus 86:', BusVoltage[86])\n",
    "print('Bus 87:', BusVoltage[87])"
   ]
  },
  {
   "cell_type": "code",
   "execution_count": 64,
   "metadata": {},
   "outputs": [
    {
     "name": "stderr",
     "output_type": "stream",
     "text": [
      "C:\\Users\\Dawei Qiu\\anaconda3\\lib\\site-packages\\ipykernel_launcher.py:11: MatplotlibDeprecationWarning: The 'b' parameter of grid() has been renamed 'visible' since Matplotlib 3.5; support for the old name will be dropped two minor releases later.\n",
      "  # This is added back by InteractiveShellApp.init_path()\n"
     ]
    },
    {
     "data": {
      "image/png": "[encoded data removed]",
      "text/plain": [
       "<Figure size 1440x180 with 1 Axes>"
      ]
     },
     "metadata": {
      "needs_background": "light"
     },
     "output_type": "display_data"
    },
    {
     "name": "stdout",
     "output_type": "stream",
     "text": [
      "-68.01878429307499\n"
     ]
    }
   ],
   "source": [
    "fig = plt.figure(figsize=(20,2.5))\n",
    "x = range(Network.n_transformer)\n",
    "width = 0.5\n",
    "space = 0.5\n",
    "text1 = 10\n",
    "text2 = 12\n",
    "font1 = {'family': 'Times New Roman', 'weight': 'normal', 'size': text1}\n",
    "font2 = {'family': 'Times New Roman', 'weight': 'normal', 'size': text2}\n",
    "# plot active generation\n",
    "bar1 = plt.bar(x, TransformerFlow_P, width)\n",
    "plt.grid(b=None, which='major', linestyle='--', axis='y')\n",
    "plt.tick_params(labelsize = text2)\n",
    "plt.xticks(np.linspace(0,6,7), fontname = \"Times New Roman\")\n",
    "plt.yticks(np.linspace(-100,150,6), fontname = \"Times New Roman\")\n",
    "plt.xticks([0,1,2,3,4,5,6],['7-8 (Gen)','16-17 (Gen)','23-24 (Gen)','21-22 (Gen)','43-44 (Load)','52-53 (Load)','87-88 (Gen)'])\n",
    "plt.ylabel('Transformer power flow (kW)', font2)\n",
    "plt.xlabel('Transformer Index', font2)\n",
    "plt.show()\n",
    "print(TransformerFlow_P[2])"
   ]
  },
  {
   "cell_type": "code",
   "execution_count": 65,
   "metadata": {},
   "outputs": [
    {
     "data": {
      "text/plain": [
       "array([   0.        , 5661.52349559,    0.        ,    0.        ,\n",
       "       7071.90747713, 7071.90747713,    0.        ,    0.        ])"
      ]
     },
     "execution_count": 65,
     "metadata": {},
     "output_type": "execute_result"
    }
   ],
   "source": [
    "SwitchFlow_P"
   ]
  },
  {
   "cell_type": "code",
   "execution_count": null,
   "metadata": {},
   "outputs": [],
   "source": []
  },
  {
   "cell_type": "code",
   "execution_count": null,
   "metadata": {},
   "outputs": [],
   "source": []
  },
  {
   "cell_type": "code",
   "execution_count": null,
   "metadata": {},
   "outputs": [],
   "source": []
  },
  {
   "cell_type": "code",
   "execution_count": null,
   "metadata": {},
   "outputs": [],
   "source": []
  },
  {
   "cell_type": "code",
   "execution_count": null,
   "metadata": {},
   "outputs": [],
   "source": []
  }
 ],
 "metadata": {
  "kernelspec": {
   "display_name": "Python 3",
   "language": "python",
   "name": "python3"
  },
  "language_info": {
   "codemirror_mode": {
    "name": "ipython",
    "version": 3
   },
   "file_extension": ".py",
   "mimetype": "text/x-python",
   "name": "python",
   "nbconvert_exporter": "python",
   "pygments_lexer": "ipython3",
   "version": "3.7.13"
  }
 },
 "nbformat": 4,
 "nbformat_minor": 4
}
